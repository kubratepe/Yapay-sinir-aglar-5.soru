{
 "cells": [
  {
   "cell_type": "code",
   "execution_count": 117,
   "id": "4a0dc3ec",
   "metadata": {},
   "outputs": [
    {
     "name": "stdout",
     "output_type": "stream",
     "text": [
      "CPU times: total: 15.6 ms\n",
      "Wall time: 10 ms\n"
     ]
    }
   ],
   "source": [
    "%%time\n",
    "import torch\n",
    "import torch.nn as nn\n",
    "import torch.optim as optim\n",
    "from torch.utils.data import DataLoader, Dataset\n",
    "\n",
    "import pandas as pd\n",
    "import numpy as np\n",
    "\n",
    "# veri setini yükleme\n",
    "train_data = pd.read_csv(r\"C:\\Users\\asus\\Downloads\\cure_the_princess_train.csv\")\n",
    "valid_data = pd.read_csv(r\"C:\\Users\\asus\\Downloads\\cure_the_princess_validation.csv\")\n",
    "test_data = pd.read_csv(r\"C:\\Users\\asus\\Downloads\\cure_the_princess_test.csv\")\n",
    "\n",
    "# input boyutunu belirleme\n",
    "input_size = len(train_data.columns) - 1 "
   ]
  },
  {
   "cell_type": "code",
   "execution_count": 118,
   "id": "6f4858fc",
   "metadata": {},
   "outputs": [
    {
     "name": "stdout",
     "output_type": "stream",
     "text": [
      "CPU times: total: 0 ns\n",
      "Wall time: 1.04 ms\n"
     ]
    }
   ],
   "source": [
    "%%time\n",
    "class CustomDataset(Dataset):\n",
    "    def __init__(self, data):\n",
    "        self.X = data.iloc[:, :-1].values\n",
    "        self.y = data.iloc[:, -1].values.reshape(-1, 1)\n",
    "        \n",
    "    def __len__(self):\n",
    "        return len(self.X)\n",
    "    \n",
    "    def __getitem__(self, index):\n",
    "        return torch.tensor(self.X[index], dtype=torch.float), torch.tensor(self.y[index], dtype=torch.float)\n",
    "        \n",
    "train_dataset = CustomDataset(train_data)\n",
    "valid_dataset = CustomDataset(valid_data)\n",
    "test_dataset = CustomDataset(test_data)\n",
    "\n",
    "# DataLoader'larımızı tanımlayalım\n",
    "batch_size = 16\n",
    "train_loader = DataLoader(train_dataset, batch_size=batch_size, shuffle=True)\n",
    "valid_loader = DataLoader(valid_dataset, batch_size=batch_size)\n",
    "test_loader = DataLoader(test_dataset, batch_size=batch_size)"
   ]
  },
  {
   "cell_type": "code",
   "execution_count": 119,
   "id": "41cfd6d7",
   "metadata": {},
   "outputs": [
    {
     "name": "stdout",
     "output_type": "stream",
     "text": [
      "CPU times: total: 0 ns\n",
      "Wall time: 996 µs\n"
     ]
    }
   ],
   "source": [
    "%%time\n",
    "class MLP(nn.Module):\n",
    "    def __init__(self, input_size, hidden_size1, hidden_size2, output_size):\n",
    "        super().__init__()\n",
    "        self.hidden_layer1 = nn.Linear(input_size, hidden_size1)\n",
    "        self.hidden_layer2 = nn.Linear(hidden_size1, hidden_size2)\n",
    "        self.output_layer = nn.Linear(hidden_size2, output_size)\n",
    "\n",
    "        self.relu = nn.ReLU()\n",
    "        self.sigmoid = nn.Sigmoid()\n",
    "\n",
    "    def forward(self, x):\n",
    "        x = self.relu(self.hidden_layer1(x))\n",
    "        x = self.relu(self.hidden_layer2(x))\n",
    "        x = self.sigmoid(self.output_layer(x))\n",
    "        return x\n",
    "output_size = len(np.unique(train_data.iloc[:, -1].values))"
   ]
  },
  {
   "cell_type": "code",
   "execution_count": 120,
   "id": "7119c290",
   "metadata": {},
   "outputs": [
    {
     "name": "stdout",
     "output_type": "stream",
     "text": [
      "CPU times: total: 0 ns\n",
      "Wall time: 3 ms\n"
     ]
    }
   ],
   "source": [
    "%%time\n",
    "model = MLP(input_size=input_size, hidden_size1=100, hidden_size2=50, output_size=output_size)\n"
   ]
  },
  {
   "cell_type": "code",
   "execution_count": 121,
   "id": "3ace9cb1",
   "metadata": {},
   "outputs": [
    {
     "name": "stdout",
     "output_type": "stream",
     "text": [
      "WARNING: For this notebook to perform best, if possible, in the menu under `Runtime` -> `Change runtime type.`  select `GPU` \n",
      "CPU times: total: 0 ns\n",
      "Wall time: 2.97 ms\n"
     ]
    },
    {
     "data": {
      "text/plain": [
       "<torch._C.Generator at 0x1bee68faaf0>"
      ]
     },
     "execution_count": 121,
     "metadata": {},
     "output_type": "execute_result"
    }
   ],
   "source": [
    "%%time\n",
    "def set_device():\n",
    "  device = \"cuda\" if torch.cuda.is_available() else \"cpu\"\n",
    "  if device != \"cuda\":\n",
    "    print(\"WARNING: For this notebook to perform best, \"\n",
    "        \"if possible, in the menu under `Runtime` -> \"\n",
    "        \"`Change runtime type.`  select `GPU` \")\n",
    "  else:\n",
    "    print(\"GPU is enabled in this notebook.\")\n",
    "\n",
    "  return device\n",
    "DEVICE = set_device()\n",
    "\n",
    "device = torch.device(\"cuda\" if torch.cuda.is_available() else \"cpu\")\n",
    "model.to(device)\n",
    "\n",
    "torch.manual_seed(190401017)\n",
    "\n"
   ]
  },
  {
   "cell_type": "code",
   "execution_count": 122,
   "id": "0e2fae6a",
   "metadata": {},
   "outputs": [
    {
     "name": "stdout",
     "output_type": "stream",
     "text": [
      "Epoch: 1/50  Train Loss: 0.6674  Train Acc: 59.66%  Valid Loss: 0.6004  Valid Acc: 72.93%\n",
      "Epoch: 2/50  Train Loss: 0.5748  Train Acc: 77.64%  Valid Loss: 0.5128  Valid Acc: 84.71%\n",
      "Epoch: 3/50  Train Loss: 0.5188  Train Acc: 83.15%  Valid Loss: 0.4777  Valid Acc: 88.22%\n",
      "Epoch: 4/50  Train Loss: 0.4854  Train Acc: 85.22%  Valid Loss: 0.4440  Valid Acc: 89.17%\n",
      "Epoch: 5/50  Train Loss: 0.4704  Train Acc: 85.54%  Valid Loss: 0.4265  Valid Acc: 91.40%\n",
      "Epoch: 6/50  Train Loss: 0.4568  Train Acc: 87.06%  Valid Loss: 0.4259  Valid Acc: 91.08%\n",
      "Epoch: 7/50  Train Loss: 0.4473  Train Acc: 88.50%  Valid Loss: 0.4228  Valid Acc: 90.45%\n",
      "Epoch: 8/50  Train Loss: 0.4386  Train Acc: 89.38%  Valid Loss: 0.4160  Valid Acc: 91.72%\n",
      "Epoch: 9/50  Train Loss: 0.4323  Train Acc: 89.78%  Valid Loss: 0.4052  Valid Acc: 91.72%\n",
      "Epoch: 10/50  Train Loss: 0.4295  Train Acc: 89.38%  Valid Loss: 0.4427  Valid Acc: 86.62%\n",
      "Epoch: 11/50  Train Loss: 0.4262  Train Acc: 90.02%  Valid Loss: 0.3979  Valid Acc: 92.36%\n",
      "Epoch: 12/50  Train Loss: 0.4210  Train Acc: 90.18%  Valid Loss: 0.3968  Valid Acc: 92.04%\n",
      "Epoch: 13/50  Train Loss: 0.4185  Train Acc: 89.94%  Valid Loss: 0.3929  Valid Acc: 91.72%\n",
      "Epoch: 14/50  Train Loss: 0.4135  Train Acc: 90.97%  Valid Loss: 0.3995  Valid Acc: 92.36%\n",
      "Epoch: 15/50  Train Loss: 0.4087  Train Acc: 91.69%  Valid Loss: 0.4156  Valid Acc: 90.13%\n",
      "Epoch: 16/50  Train Loss: 0.4092  Train Acc: 91.37%  Valid Loss: 0.3863  Valid Acc: 92.99%\n",
      "Epoch: 17/50  Train Loss: 0.4092  Train Acc: 91.53%  Valid Loss: 0.3967  Valid Acc: 92.36%\n",
      "Epoch: 18/50  Train Loss: 0.4012  Train Acc: 91.77%  Valid Loss: 0.3863  Valid Acc: 93.63%\n",
      "Epoch: 19/50  Train Loss: 0.4010  Train Acc: 91.77%  Valid Loss: 0.3882  Valid Acc: 93.31%\n",
      "Epoch: 20/50  Train Loss: 0.3960  Train Acc: 93.05%  Valid Loss: 0.3842  Valid Acc: 93.63%\n",
      "Epoch: 21/50  Train Loss: 0.3966  Train Acc: 92.65%  Valid Loss: 0.3821  Valid Acc: 93.63%\n",
      "Epoch: 22/50  Train Loss: 0.3934  Train Acc: 92.73%  Valid Loss: 0.3847  Valid Acc: 92.68%\n",
      "Epoch: 23/50  Train Loss: 0.3912  Train Acc: 93.61%  Valid Loss: 0.4235  Valid Acc: 90.13%\n",
      "Epoch: 24/50  Train Loss: 0.3912  Train Acc: 93.29%  Valid Loss: 0.3784  Valid Acc: 94.90%\n",
      "Epoch: 25/50  Train Loss: 0.3860  Train Acc: 93.69%  Valid Loss: 0.3807  Valid Acc: 93.31%\n",
      "Epoch: 26/50  Train Loss: 0.3861  Train Acc: 93.29%  Valid Loss: 0.4096  Valid Acc: 91.08%\n",
      "Epoch: 27/50  Train Loss: 0.3828  Train Acc: 94.41%  Valid Loss: 0.3857  Valid Acc: 92.99%\n",
      "Epoch: 28/50  Train Loss: 0.3820  Train Acc: 94.17%  Valid Loss: 0.3757  Valid Acc: 94.90%\n",
      "Epoch: 29/50  Train Loss: 0.3792  Train Acc: 94.81%  Valid Loss: 0.3798  Valid Acc: 92.99%\n",
      "Epoch: 30/50  Train Loss: 0.3781  Train Acc: 94.73%  Valid Loss: 0.3837  Valid Acc: 92.68%\n",
      "Epoch: 31/50  Train Loss: 0.3783  Train Acc: 94.25%  Valid Loss: 0.3728  Valid Acc: 94.90%\n",
      "Epoch: 32/50  Train Loss: 0.3756  Train Acc: 94.73%  Valid Loss: 0.3742  Valid Acc: 93.95%\n",
      "Epoch: 33/50  Train Loss: 0.3749  Train Acc: 95.13%  Valid Loss: 0.3766  Valid Acc: 92.99%\n",
      "Epoch: 34/50  Train Loss: 0.3727  Train Acc: 95.13%  Valid Loss: 0.3799  Valid Acc: 92.99%\n",
      "Epoch: 35/50  Train Loss: 0.3719  Train Acc: 94.89%  Valid Loss: 0.3765  Valid Acc: 92.99%\n",
      "Epoch: 36/50  Train Loss: 0.3702  Train Acc: 95.21%  Valid Loss: 0.3754  Valid Acc: 93.63%\n",
      "Epoch: 37/50  Train Loss: 0.3711  Train Acc: 94.89%  Valid Loss: 0.3715  Valid Acc: 94.27%\n",
      "Epoch: 38/50  Train Loss: 0.3696  Train Acc: 95.53%  Valid Loss: 0.3705  Valid Acc: 94.90%\n",
      "Epoch: 39/50  Train Loss: 0.3678  Train Acc: 95.29%  Valid Loss: 0.3700  Valid Acc: 94.59%\n",
      "Epoch: 40/50  Train Loss: 0.3657  Train Acc: 95.61%  Valid Loss: 0.3941  Valid Acc: 92.04%\n",
      "Epoch: 41/50  Train Loss: 0.3659  Train Acc: 95.53%  Valid Loss: 0.3994  Valid Acc: 91.08%\n",
      "Epoch: 42/50  Train Loss: 0.3656  Train Acc: 95.85%  Valid Loss: 0.3722  Valid Acc: 93.95%\n",
      "Epoch: 43/50  Train Loss: 0.3625  Train Acc: 95.93%  Valid Loss: 0.3710  Valid Acc: 94.59%\n",
      "Epoch: 44/50  Train Loss: 0.3621  Train Acc: 96.17%  Valid Loss: 0.3682  Valid Acc: 94.90%\n",
      "Epoch: 45/50  Train Loss: 0.3627  Train Acc: 95.61%  Valid Loss: 0.4039  Valid Acc: 91.08%\n",
      "Epoch: 46/50  Train Loss: 0.3613  Train Acc: 96.41%  Valid Loss: 0.3695  Valid Acc: 94.27%\n",
      "Epoch: 47/50  Train Loss: 0.3599  Train Acc: 96.33%  Valid Loss: 0.3689  Valid Acc: 94.59%\n",
      "Epoch: 48/50  Train Loss: 0.3592  Train Acc: 95.93%  Valid Loss: 0.3666  Valid Acc: 94.90%\n",
      "Epoch: 49/50  Train Loss: 0.3593  Train Acc: 96.09%  Valid Loss: 0.3674  Valid Acc: 94.90%\n",
      "Epoch: 50/50  Train Loss: 0.3597  Train Acc: 95.85%  Valid Loss: 0.3649  Valid Acc: 95.54%\n",
      "CPU times: total: 21.2 s\n",
      "Wall time: 5.48 s\n"
     ]
    }
   ],
   "source": [
    "%%time\n",
    "patience = 3\n",
    "min_delta = 0.01\n",
    "\n",
    "\n",
    "# loss fonksiyonu\n",
    "criterion = nn.CrossEntropyLoss()\n",
    "\n",
    "# optimizer\n",
    "optimizer = optim.SGD(model.parameters(), lr=0.01)\n",
    "\n",
    "# train fonksiyonu\n",
    "def train(model, dataloader, criterion, optimizer):\n",
    "    train_loss = 0\n",
    "    train_acc = 0\n",
    "    total = 0\n",
    "    \n",
    "    \n",
    "    model.train()\n",
    "    \n",
    "    for inputs, targets in dataloader:\n",
    "        optimizer.zero_grad()\n",
    "        \n",
    "        outputs = model(inputs)\n",
    "        loss = criterion(outputs, targets.squeeze().long())\n",
    "        loss.backward()\n",
    "        optimizer.step()\n",
    "        \n",
    "        _, predicted = torch.max(outputs, 1)\n",
    "        total += targets.size(0)\n",
    "        train_acc += (predicted == targets.squeeze().long()).sum().item()\n",
    "        train_loss += loss.item() * inputs.size(0)\n",
    "        \n",
    "    return train_loss / total, train_acc / total\n",
    "# evaluate fonksiyonu\n",
    "def evaluate(model, dataloader, criterion):\n",
    "    valid_loss = 0\n",
    "    valid_acc = 0\n",
    "    total = 0\n",
    "    \n",
    "    model.eval()\n",
    "    \n",
    "    with torch.no_grad():\n",
    "        for inputs, targets in dataloader:\n",
    "            outputs = model(inputs)\n",
    "            loss = criterion(outputs, targets.squeeze().long())\n",
    "            \n",
    "            _, predicted = torch.max(outputs, 1)\n",
    "            total += targets.size(0)\n",
    "            valid_acc += (predicted == targets.squeeze().long()).sum().item()\n",
    "            valid_loss += loss.item() * inputs.size(0)\n",
    "        \n",
    "    return valid_loss / total, valid_acc / total\n",
    "\n",
    "# eğitim döngüsü\n",
    "n_epochs = 50\n",
    "\n",
    "best_valid_loss = np.inf\n",
    "\n",
    "train_loss_list = []\n",
    "valid_loss_list = []\n",
    "\n",
    "\n",
    "\n",
    "for epoch in range(n_epochs):\n",
    "    train_loss, train_acc = train(model, train_loader, criterion, optimizer)\n",
    "    valid_loss, valid_acc = evaluate(model, valid_loader, criterion)\n",
    "    \n",
    "    # en iyi modeli kaydetme\n",
    "    if valid_loss < best_valid_loss:\n",
    "        best_valid_loss = valid_loss\n",
    "        torch.save(model.state_dict(), 'best_model.pt')\n",
    "        \n",
    "    print('Epoch: {}/{}  Train Loss: {:.4f}  Train Acc: {:.2f}%  Valid Loss: {:.4f}  Valid Acc: {:.2f}%'.format(epoch+1, n_epochs, train_loss, train_acc*100, valid_loss, valid_acc*100))\n",
    "    \n",
    "    train_loss_list.append(train_loss)\n",
    "    valid_loss_list.append(valid_loss)"
   ]
  },
  {
   "cell_type": "code",
   "execution_count": 123,
   "id": "4da1d6cb",
   "metadata": {},
   "outputs": [
    {
     "name": "stdout",
     "output_type": "stream",
     "text": [
      "Test Loss: 0.3727  Test Acc: 94.56%\n",
      "CPU times: total: 188 ms\n",
      "Wall time: 46 ms\n"
     ]
    }
   ],
   "source": [
    "%%time\n",
    "# en iyi modeli yükle\n",
    "model.load_state_dict(torch.load('best_model.pt'))\n",
    "\n",
    "# test fonksiyonu\n",
    "def test(model, dataloader, criterion):\n",
    "    test_loss = 0\n",
    "    test_acc = 0\n",
    "    total = 0\n",
    "    \n",
    "    model.eval()\n",
    "    \n",
    "    with torch.no_grad():\n",
    "        for inputs, targets in dataloader:\n",
    "            outputs = model(inputs)\n",
    "            loss = criterion(outputs, targets.squeeze().long())\n",
    "            \n",
    "            _, predicted = torch.max(outputs, 1)\n",
    "            total += targets.size(0)\n",
    "            test_acc += (predicted == targets.squeeze().long()).sum().item()\n",
    "            test_loss += loss.item() * inputs.size(0)\n",
    "        \n",
    "    return test_loss / total, test_acc / total\n",
    "   \n",
    "# test veri seti üzerinde model performansı\n",
    "test_loss, test_acc = test(model, test_loader, criterion)\n",
    "\n",
    "print('Test Loss: {:.4f}  Test Acc: {:.2f}%'.format(test_loss, test_acc*100))\n"
   ]
  },
  {
   "cell_type": "code",
   "execution_count": 124,
   "id": "128f2f13",
   "metadata": {},
   "outputs": [
    {
     "data": {
      "image/png": "[encoded data removed]",
      "text/plain": [
       "<Figure size 640x480 with 1 Axes>"
      ]
     },
     "metadata": {},
     "output_type": "display_data"
    },
    {
     "name": "stdout",
     "output_type": "stream",
     "text": [
      "CPU times: total: 688 ms\n",
      "Wall time: 220 ms\n"
     ]
    }
   ],
   "source": [
    "%%time\n",
    "import seaborn as sns\n",
    "import matplotlib.pyplot as plt\n",
    "\n",
    "plt.plot(train_loss_list, label='Training loss')\n",
    "plt.plot(valid_loss_list, label='Validation loss')\n",
    "plt.xlabel('Epoch')\n",
    "plt.ylabel('Loss')\n",
    "plt.legend()\n",
    "plt.show()"
   ]
  },
  {
   "cell_type": "code",
   "execution_count": 115,
   "id": "15e022e9",
   "metadata": {
    "scrolled": true
   },
   "outputs": [
    {
     "name": "stdout",
     "output_type": "stream",
     "text": [
      "Accuracy: 0.9365284974093264\n",
      "F1 score: 0.9364388054635608\n",
      "Precision: 0.9395717229033674\n",
      "Recall: 0.9367482817869416\n",
      "CPU times: total: 250 ms\n",
      "Wall time: 63 ms\n"
     ]
    }
   ],
   "source": [
    "%%time\n",
    "from sklearn.metrics import accuracy_score\n",
    "from sklearn.metrics import f1_score\n",
    "from sklearn.metrics import precision_score\n",
    "from sklearn.metrics import recall_score\n",
    "\n",
    "y_true = []\n",
    "\n",
    "y_pred = []\n",
    "with torch.no_grad():\n",
    "    for data in test_loader:\n",
    "        inputs, labels = data\n",
    "        inputs, labels = inputs.to(device), labels.to(device)\n",
    "        outputs = model(inputs)\n",
    "        predicted = torch.argmax(outputs, dim=1)\n",
    "        y_true += labels.cpu().tolist()\n",
    "        y_pred += predicted.cpu().tolist()\n",
    "\n",
    "accuracy = accuracy_score(y_true, y_pred)\n",
    "f1 = f1_score(y_true, y_pred, average='macro')\n",
    "precision = precision_score(y_true, y_pred, average='macro')\n",
    "recall = recall_score(y_true, y_pred, average='macro')\n",
    "\n",
    "print('Accuracy:', accuracy)\n",
    "print('F1 score:', f1)\n",
    "print('Precision:', precision)\n",
    "print('Recall:', recall)"
   ]
  }
 ],
 "metadata": {
  "kernelspec": {
   "display_name": "Python 3 (ipykernel)",
   "language": "python",
   "name": "python3"
  },
  "language_info": {
   "codemirror_mode": {
    "name": "ipython",
    "version": 3
   },
   "file_extension": ".py",
   "mimetype": "text/x-python",
   "name": "python",
   "nbconvert_exporter": "python",
   "pygments_lexer": "ipython3",
   "version": "3.8.0"
  }
 },
 "nbformat": 4,
 "nbformat_minor": 5
}
